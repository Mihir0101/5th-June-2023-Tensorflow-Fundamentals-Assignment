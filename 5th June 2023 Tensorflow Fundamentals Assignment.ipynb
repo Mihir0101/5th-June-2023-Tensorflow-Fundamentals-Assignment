{
 "cells": [
  {
   "cell_type": "markdown",
   "id": "67fe9d6a-41bc-4cb9-bee6-fbe5ccc6df17",
   "metadata": {},
   "source": [
    "# **Part 1: Theoretical Questions**"
   ]
  },
  {
   "cell_type": "markdown",
   "id": "c1d54132-d1f8-4b8c-a791-5f9303ddd977",
   "metadata": {},
   "source": [
    "## 1. What are the different data structures used in Tensorflow? Give some examples."
   ]
  },
  {
   "cell_type": "markdown",
   "id": "f9342fb0-c53f-4847-828f-4dfa9c7eeb28",
   "metadata": {},
   "source": [
    "Tensorflow is a open-source machine learning framework, uses various data structures to manage the data and model parameters.\n",
    "\n",
    "1. **Tensors** \n",
    "\n",
    "Tensors are multi-dimensional arrays with uniform type.\n",
    "\n",
    "Examples :\n",
    "\n",
    "Scalar (0D tensor): tf.constant(3)\n",
    "\n",
    "Vector (1D tensor): tf.constant([1.0, 2.0, 3.0])\n",
    "\n",
    "Matrix (2D tensor): tf.constant([[1.0, 2.0], [3.0, 4.0]])\n",
    "\n",
    "Higher dimensions: tf.constant([[[1.0, 2.0], [3.0, 4.0]], [[5.0, 6.0], [7.0, 8.0]]])\n",
    "\n",
    "2. **Variables**\n",
    "\n",
    "Variables are special type of data structure used for storing and updating parameters.\n",
    "\n",
    "Examples :\n",
    "\n",
    "tf.Variable(3.0)\n",
    "\n",
    "tf.Variable([1.0, 2.0, 3.0])\n",
    "\n",
    "3. **Ragged Tensors**\n",
    "\n",
    "Ragged tensors allows tensors with variable number of elements along some dimensions.\n",
    "\n",
    "Examples :\n",
    "\n",
    "tf.ragged.constant([[1, 2, 3], [4, 5], [6, 7, 8, 9]])\n",
    "\n",
    "4. **String Tensors**\n",
    "\n",
    "Strings are used to handle string data.\n",
    "\n",
    "Examples :\n",
    "\n",
    "tf.constant(\"Hello, TensorFlow!\")\n",
    "\n",
    "tf.constant([\"TensorFlow\", \"is\", \"awesome\"])\n",
    "\n",
    "5. **DataFrame**\n",
    "\n",
    "The 'tf.data' API provides data structure for handling large datasets and evaluation.\n",
    "\n",
    "Examples:\n",
    "\n",
    "dataset = tf.data.Dataset.from_tensor_slices([1, 2, 3, 4, 5])\n",
    "\n",
    "dataset = tf.data.Dataset.from_tensor_slices((features, labels))"
   ]
  },
  {
   "cell_type": "markdown",
   "id": "011f1ac9-72ab-49d9-93df-21528f9f1957",
   "metadata": {},
   "source": [
    "## 2. How does the TensorFlow constant differ from a TensorFlow variable? Explain with an example."
   ]
  },
  {
   "cell_type": "markdown",
   "id": "ba5d96ea-6cd6-49d5-be74-38baf6506a2f",
   "metadata": {},
   "source": [
    "* **Tensorflow Constant**\n",
    "\n",
    "Tensorflow constants are immutable, we can't change the value of it once created.\n",
    "\n",
    "Typically used for value that do not change during the execution.\n",
    "\n",
    "Example : tf.constant([1.0, 2.0, 3.0]\n",
    "\n",
    "* **Tensorflow Variable**\n",
    "\n",
    "Variables are mutable, we can change the value of it once it created.\n",
    "\n",
    "Used for value that need to be updated during the execution.\n",
    "\n",
    "Example : tf.Variable([1.0, 2.0, 3.0]"
   ]
  },
  {
   "cell_type": "markdown",
   "id": "fcc656f7-b19c-4184-bda1-4b4ec8fe168b",
   "metadata": {},
   "source": [
    "## 3. Describe the process of matrix addition, multiplication, and elementwise operations in TensorFlow."
   ]
  },
  {
   "cell_type": "markdown",
   "id": "1e68afea-f209-4662-ba46-b90292632332",
   "metadata": {},
   "source": [
    "Matrix operations like matrix multiplication,addition and elementwise operations are fundamental for various computational operations in machine learning.\n",
    "\n",
    "* **Matrix Addition**\n",
    "\n",
    "Matrix addition involves adding corresponding elements of two metrix of same shape.\n",
    "\n",
    "**Code** :\n",
    "\n",
    "matrix1 = tf.constant([[1, 2], [3, 4]], dtype=tf.float32)\n",
    "\n",
    "matrix2 = tf.constant([[5, 6], [7, 8]], dtype=tf.float32)\n",
    "\n",
    "matrix_addition = tf.add(matrix1, matrix2)\n",
    "\n",
    "**Output** : [[ 6.  8.][10. 12.]]\n",
    "\n",
    "* **Matrix Multiplication**\n",
    "\n",
    "Matrix multiplication involves multiplying of row of first metrix with column of second metrix and summing the result.\n",
    "\n",
    "**Code** :\n",
    "\n",
    "matrix1 = tf.constant([[1, 2], [3, 4]], dtype=tf.float32)\n",
    "\n",
    "matrix2 = tf.constant([[5, 6], [7, 8]], dtype=tf.float32)\n",
    "\n",
    "matrix_multiplication = tf.matmul(matrix1, matrix2)\n",
    "\n",
    "**Output** : [[19. 22.][43. 50.]]\n",
    "\n",
    "* **Elementwise Operations**\n",
    "\n",
    "Elementwise operations involves arithmetic operations on elements of two metrix of same shape.\n",
    "\n",
    "**Code** :\n",
    "\n",
    "matrix1 = tf.constant([[1, 2], [3, 4]], dtype=tf.float32)\n",
    "\n",
    "matrix2 = tf.constant([[5, 6], [7, 8]], dtype=tf.float32)\n",
    "\n",
    "elementwise_addition = tf.add(matrix1, matrix2)\n",
    "\n",
    "elementwise_multiplication = tf.multiply(matrix1, matrix2)\n",
    "\n",
    "elementwise_division = tf.divide(matrix1, matrix2)\n",
    "\n",
    "**Output** :\n",
    "\n",
    "Addition = [[ 6.  8.][10. 12.]]\n",
    "\n",
    "Multiplication = [[ 5. 12.][21. 32.]]\n",
    "\n",
    "Division = [[0.2        0.33333334][0.42857143 0.5       ]]"
   ]
  },
  {
   "cell_type": "markdown",
   "id": "d6a2df97-9a41-4761-ace1-cb8bd455462c",
   "metadata": {},
   "source": [
    "# **Part 2: Practical Implementation**"
   ]
  },
  {
   "cell_type": "markdown",
   "id": "83c60cd1-5a23-4407-9f99-82e5360b0332",
   "metadata": {},
   "source": [
    "## Talk 1: Creating and Manipulating Matrices"
   ]
  },
  {
   "cell_type": "markdown",
   "id": "66bc49df-e249-417d-89e4-2685dcece904",
   "metadata": {},
   "source": [
    "## 1.Create a normal matrix A with dimensions 2x2, using TensorFlow's random_normal function. Display the values of matrix A."
   ]
  },
  {
   "cell_type": "code",
   "execution_count": 3,
   "id": "83403fc6-cb7f-4842-8f85-01ceb3dae2df",
   "metadata": {},
   "outputs": [],
   "source": [
    "import tensorflow as tf"
   ]
  },
  {
   "cell_type": "code",
   "execution_count": 7,
   "id": "7c4b82c7-ddb7-4421-b362-1148621e9301",
   "metadata": {},
   "outputs": [
    {
     "name": "stdout",
     "output_type": "stream",
     "text": [
      "tf.Tensor(\n",
      "[[-1.9131193   0.06680815]\n",
      " [ 2.0161119   2.2633512 ]], shape=(2, 2), dtype=float32)\n"
     ]
    }
   ],
   "source": [
    "a = tf.random.normal(shape=(2,2))\n",
    "print(a)"
   ]
  },
  {
   "cell_type": "markdown",
   "id": "7e6f4138-94ff-486a-b8e9-8a0599140b80",
   "metadata": {},
   "source": [
    "## 2.Create a Gaussian matrix B with dimensions x, using TensorFlow's truncated_normal function. Display the values of matrix B."
   ]
  },
  {
   "cell_type": "markdown",
   "id": "509ddeef-7086-4541-91c1-567665f8b401",
   "metadata": {},
   "source": [
    "'truncated_normal' function returns the value that are near to zero and it redraws value that are more then two standard deviation of the mean."
   ]
  },
  {
   "cell_type": "code",
   "execution_count": 20,
   "id": "266405ed-701f-41b3-bc96-323938b0d224",
   "metadata": {},
   "outputs": [
    {
     "name": "stdout",
     "output_type": "stream",
     "text": [
      "tf.Tensor(\n",
      "[[ 1.6934111  -0.8560052   0.61431324  2.7056522   0.5779203 ]\n",
      " [ 2.397799   -0.754527    1.358814    2.9846075   3.1907222 ]\n",
      " [ 0.07629466  2.6631498   1.3831885   0.8095641   0.14195597]\n",
      " [-0.75261354  1.1383064  -0.20752275  4.168742    0.06870031]\n",
      " [-1.0193453   1.8882385  -1.4627001  -0.720417    3.5183473 ]], shape=(5, 5), dtype=float32)\n"
     ]
    }
   ],
   "source": [
    "x = 5\n",
    "b = tf.random.truncated_normal([x,x],mean=1,stddev=2)\n",
    "print(b)"
   ]
  },
  {
   "cell_type": "markdown",
   "id": "18eb4248-ad1b-4faa-ba97-c65075e92065",
   "metadata": {},
   "source": [
    "## 3. Create a matrix C with dimensions 2x2, where the values are drawn from a normal distribution with a mean of 3 and a standard deviation of 0.5, using TensorFlow's random.normal function. Display the values of matrix C."
   ]
  },
  {
   "cell_type": "code",
   "execution_count": 21,
   "id": "7310603c-a8d0-4d23-b681-ffc2427d9501",
   "metadata": {},
   "outputs": [
    {
     "name": "stdout",
     "output_type": "stream",
     "text": [
      "tf.Tensor(\n",
      "[[2.2740116 2.3558664]\n",
      " [2.9594018 3.2523706]], shape=(2, 2), dtype=float32)\n"
     ]
    }
   ],
   "source": [
    "c = tf.random.normal(shape=(2,2),mean=3,stddev=0.5)\n",
    "print(c)"
   ]
  },
  {
   "cell_type": "markdown",
   "id": "0f9f9282-0676-4e51-8819-36215e400784",
   "metadata": {},
   "source": [
    "## 4. Perform matrix addition between matrix A and matrix B, and store the result in matrix D."
   ]
  },
  {
   "cell_type": "code",
   "execution_count": 23,
   "id": "a6087db2-0f92-4dc8-b9b4-69be2800cd41",
   "metadata": {},
   "outputs": [
    {
     "name": "stdout",
     "output_type": "stream",
     "text": [
      "tf.Tensor(\n",
      "[[ 3 15]\n",
      " [14  6]], shape=(2, 2), dtype=int32)\n"
     ]
    }
   ],
   "source": [
    "a = tf.constant([[1,9],[7,2]])\n",
    "b = tf.constant([[2,6],[7,4]])\n",
    "d = tf.add(a,b)\n",
    "print(d)"
   ]
  },
  {
   "cell_type": "markdown",
   "id": "b3b87bf9-1121-4920-91b2-56c2828333e5",
   "metadata": {},
   "source": [
    "## 5.Perform matrix multiplication between matrix C and matrix D, and store the result in matrix E."
   ]
  },
  {
   "cell_type": "code",
   "execution_count": 25,
   "id": "f64595b9-3e54-4448-97f4-d4cef9bb0768",
   "metadata": {},
   "outputs": [
    {
     "name": "stdout",
     "output_type": "stream",
     "text": [
      "tf.Tensor(\n",
      "[[ 372  634]\n",
      " [ 855 1041]], shape=(2, 2), dtype=int32)\n"
     ]
    }
   ],
   "source": [
    "c = tf.constant([[5,6],[12,9]])\n",
    "d = tf.constant([[66,20],[7,89]])\n",
    "e = tf.matmul(c,d)\n",
    "print(e)"
   ]
  },
  {
   "cell_type": "markdown",
   "id": "6e3cda14-9d7a-47ef-bcea-35055819c10c",
   "metadata": {},
   "source": []
  },
  {
   "cell_type": "markdown",
   "id": "e5fe7c0e-974f-46c3-89a8-8e3a7c72bc05",
   "metadata": {},
   "source": [
    "## Talk 2: Performing Additional Matrix Operations"
   ]
  },
  {
   "cell_type": "markdown",
   "id": "8a861569-9c55-41f5-870b-6af7cfdfdc7f",
   "metadata": {},
   "source": [
    "## 1. Create a matrix F with dimensions 2x2, initialized with random values using TensorFlow's random_uniform function."
   ]
  },
  {
   "cell_type": "code",
   "execution_count": 27,
   "id": "6d8678b9-9685-42de-9ae1-f672af2ac4fc",
   "metadata": {},
   "outputs": [
    {
     "name": "stdout",
     "output_type": "stream",
     "text": [
      "tf.Tensor(\n",
      "[[50.378662 50.990612]\n",
      " [50.617847 50.66206 ]], shape=(2, 2), dtype=float32)\n"
     ]
    }
   ],
   "source": [
    "f = tf.random.uniform(shape=(2,2),minval=50,maxval=51,dtype=tf.float32)\n",
    "print(f)"
   ]
  },
  {
   "cell_type": "markdown",
   "id": "55c0cad8-a8ef-402a-8a98-d4c7e4728602",
   "metadata": {},
   "source": [
    "## 2. Calculate the transpose of matrix F and store the result in matrix G."
   ]
  },
  {
   "cell_type": "code",
   "execution_count": 29,
   "id": "69218802-4403-48e4-8c64-0c53baa9c144",
   "metadata": {},
   "outputs": [
    {
     "name": "stdout",
     "output_type": "stream",
     "text": [
      "tf.Tensor(\n",
      "[[          8          99]\n",
      " [         66       71526]\n",
      " [         52 85236914710]\n",
      " [         64           4]\n",
      " [         57          85]], shape=(5, 2), dtype=int64)\n"
     ]
    }
   ],
   "source": [
    "f = tf.constant([[8,66,52,64,57],[99,71526,85236914710,4,85]])\n",
    "g = tf.transpose(f)\n",
    "print(g)"
   ]
  },
  {
   "cell_type": "markdown",
   "id": "1c668172-30f9-49a2-99a1-6c369335051b",
   "metadata": {},
   "source": [
    "## 3. Calculate the elementwise exponential of matrix F and store the result in matrix H."
   ]
  },
  {
   "cell_type": "code",
   "execution_count": 11,
   "id": "e2b953c4-f050-447e-9f16-597079fa5ea9",
   "metadata": {},
   "outputs": [
    {
     "name": "stdout",
     "output_type": "stream",
     "text": [
      "tf.Tensor(\n",
      "[[  148.4131591  22026.46579481]\n",
      " [ 8103.08392758  1096.63315843]], shape=(2, 2), dtype=float64)\n"
     ]
    }
   ],
   "source": [
    "f = tf.constant([[5,10],[9,7]],dtype=tf.float64)\n",
    "h = tf.exp(f)\n",
    "print(h)"
   ]
  },
  {
   "cell_type": "markdown",
   "id": "d80bccd9-6430-48cd-ba6b-0d722a2ea408",
   "metadata": {},
   "source": [
    "## 4. Create a matrix I by concatenating matrix F and matrix G horizontally."
   ]
  },
  {
   "cell_type": "code",
   "execution_count": 17,
   "id": "40211b38-c74f-44a1-8ce9-9f067672aba9",
   "metadata": {},
   "outputs": [
    {
     "name": "stdout",
     "output_type": "stream",
     "text": [
      "tf.Tensor(\n",
      "[[5. 6. 7. 5.]\n",
      " [1. 3. 2. 4.]], shape=(2, 4), dtype=float64)\n"
     ]
    }
   ],
   "source": [
    "f = tf.constant([[5,6],[1,3]],dtype=tf.float64)\n",
    "g = tf.constant([[7,5],[2,4]],dtype=tf.float64)\n",
    "\n",
    "l = tf.concat([f,g],axis=1)\n",
    "print(l)"
   ]
  },
  {
   "cell_type": "markdown",
   "id": "55f297a1-7894-4405-9eba-9c1273868e46",
   "metadata": {},
   "source": [
    "## 5. Create a matrix J by concatenating matrix F and matrix H vertically."
   ]
  },
  {
   "cell_type": "code",
   "execution_count": 19,
   "id": "f14394a6-1322-4a6f-beac-f84aed948c35",
   "metadata": {},
   "outputs": [
    {
     "name": "stdout",
     "output_type": "stream",
     "text": [
      "tf.Tensor(\n",
      "[[5 3]\n",
      " [8 6]\n",
      " [1 2]\n",
      " [4 7]], shape=(4, 2), dtype=int32)\n"
     ]
    }
   ],
   "source": [
    "f = tf.constant([[5,3],[8,6]])\n",
    "h = tf.constant([[1,2],[4,7]])\n",
    "\n",
    "j = tf.concat([f,h],axis=0)\n",
    "print(j)"
   ]
  },
  {
   "cell_type": "code",
   "execution_count": null,
   "id": "5565ae78-99ca-4779-98e8-1bda35c837c3",
   "metadata": {},
   "outputs": [],
   "source": []
  }
 ],
 "metadata": {
  "kernelspec": {
   "display_name": "Python 3 (ipykernel)",
   "language": "python",
   "name": "python3"
  },
  "language_info": {
   "codemirror_mode": {
    "name": "ipython",
    "version": 3
   },
   "file_extension": ".py",
   "mimetype": "text/x-python",
   "name": "python",
   "nbconvert_exporter": "python",
   "pygments_lexer": "ipython3",
   "version": "3.10.8"
  }
 },
 "nbformat": 4,
 "nbformat_minor": 5
}
